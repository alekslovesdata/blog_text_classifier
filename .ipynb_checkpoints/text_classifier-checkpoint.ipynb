{
 "cells": [
  {
   "cell_type": "markdown",
   "metadata": {},
   "source": [
    "# Creating a Text Classifier for Blog Posts"
   ]
  },
  {
   "cell_type": "markdown",
   "metadata": {},
   "source": [
    "## Contents:\n",
    "- Problem Statement\n",
    "- Exploratory Data Analysis\n",
    "- Data Balancing\n",
    "- Feature Engineering\n",
    "- Data Cleaning\n",
    "- Train Test Split\n",
    "- Model Creation\n",
    "- Model Performance Evaluation\n"
   ]
  },
  {
   "cell_type": "markdown",
   "metadata": {},
   "source": [
    "# Problem Statement: \n",
    "\n",
    "Create a text classifier that groups blog posts into 'technology and science' or 'other'"
   ]
  },
  {
   "cell_type": "markdown",
   "metadata": {},
   "source": [
    "# EDA:"
   ]
  },
  {
   "cell_type": "code",
   "execution_count": 2,
   "metadata": {},
   "outputs": [
    {
     "data": {
      "text/plain": [
       "RendererRegistry.enable('notebook')"
      ]
     },
     "execution_count": 2,
     "metadata": {},
     "output_type": "execute_result"
    }
   ],
   "source": [
    "#importing packages for data manipulation, plotting, and working with dates\n",
    "import matplotlib.pyplot as plt\n",
    "import pandas as pd\n",
    "import seaborn as sns\n",
    "from dateutil.parser import parse\n",
    "import altair as alt\n",
    "alt.renderers.enable(\"notebook\")"
   ]
  },
  {
   "cell_type": "code",
   "execution_count": 3,
   "metadata": {},
   "outputs": [
    {
     "name": "stdout",
     "output_type": "stream",
     "text": [
      "<class 'pandas.core.frame.DataFrame'>\n",
      "RangeIndex: 681284 entries, 0 to 681283\n",
      "Data columns (total 7 columns):\n",
      " #   Column  Non-Null Count   Dtype \n",
      "---  ------  --------------   ----- \n",
      " 0   id      681284 non-null  int64 \n",
      " 1   gender  681284 non-null  object\n",
      " 2   age     681284 non-null  int64 \n",
      " 3   topic   681284 non-null  object\n",
      " 4   sign    681284 non-null  object\n",
      " 5   date    681284 non-null  object\n",
      " 6   text    681284 non-null  object\n",
      "dtypes: int64(2), object(5)\n",
      "memory usage: 36.4+ MB\n"
     ]
    }
   ],
   "source": [
    "#read in the data\n",
    "data = pd.read_csv('blogtext.csv')\n",
    "data.head(5)\n",
    "data.info()"
   ]
  },
  {
   "cell_type": "code",
   "execution_count": 4,
   "metadata": {},
   "outputs": [
    {
     "data": {
      "text/plain": [
       "indUnk                     251015\n",
       "Student                    153903\n",
       "Technology                  42055\n",
       "Arts                        32449\n",
       "Education                   29633\n",
       "Communications-Media        20140\n",
       "Internet                    16006\n",
       "Non-Profit                  14700\n",
       "Engineering                 11653\n",
       "Law                          9040\n",
       "Publishing                   7753\n",
       "Science                      7269\n",
       "Government                   6907\n",
       "Consulting                   5862\n",
       "Religion                     5235\n",
       "Fashion                      4851\n",
       "Marketing                    4769\n",
       "Advertising                  4676\n",
       "BusinessServices             4500\n",
       "Banking                      4049\n",
       "Chemicals                    3928\n",
       "Telecommunications           3891\n",
       "Accounting                   3832\n",
       "Military                     3128\n",
       "Museums-Libraries            3096\n",
       "Sports-Recreation            3038\n",
       "HumanResources               3010\n",
       "RealEstate                   2870\n",
       "Transportation               2326\n",
       "Manufacturing                2272\n",
       "Biotech                      2234\n",
       "Tourism                      1942\n",
       "LawEnforcement-Security      1878\n",
       "Architecture                 1638\n",
       "InvestmentBanking            1292\n",
       "Automotive                   1244\n",
       "Agriculture                  1235\n",
       "Construction                 1093\n",
       "Environment                   592\n",
       "Maritime                      280\n",
       "Name: topic, dtype: int64"
      ]
     },
     "execution_count": 4,
     "metadata": {},
     "output_type": "execute_result"
    }
   ],
   "source": [
    "#how many of each topic are there? We are most interested in science and technology\n",
    "data['topic'].value_counts(dropna=False)"
   ]
  },
  {
   "cell_type": "code",
   "execution_count": 5,
   "metadata": {},
   "outputs": [
    {
     "data": {
      "text/plain": [
       "0    631960\n",
       "1     49324\n",
       "Name: label_codes, dtype: int64"
      ]
     },
     "execution_count": 5,
     "metadata": {},
     "output_type": "execute_result"
    }
   ],
   "source": [
    "#Feature Engineering:\n",
    "#create new column that defines a blog post as 'tech_and_science' or 'other'\n",
    "def binary_topic(row):\n",
    "    if row['topic'] == 'Technology':\n",
    "        group = 'tech_and_science'\n",
    "    elif row['topic'] == 'Science':\n",
    "        group = 'tech_and_science'\n",
    "    else:\n",
    "        group = 'other'\n",
    "    return group\n",
    "\n",
    "data['binary_topic'] = data.apply(binary_topic, axis=1)\n",
    "\n",
    "#create label coding \n",
    "data['label_codes'] = [1 if x =='tech_and_science' else 0 for x in data['binary_topic']]\n",
    "\n",
    "data['label_codes'].value_counts()"
   ]
  },
  {
   "cell_type": "markdown",
   "metadata": {},
   "source": [
    "# Data Balancing:"
   ]
  },
  {
   "cell_type": "code",
   "execution_count": 6,
   "metadata": {},
   "outputs": [
    {
     "name": "stdout",
     "output_type": "stream",
     "text": [
      "Class 0: 631960\n",
      "Class 1: 49324\n",
      "Proportion: 12.81 : 1\n"
     ]
    },
    {
     "data": {
      "text/plain": [
       "<matplotlib.axes._subplots.AxesSubplot at 0x11f2d25d0>"
      ]
     },
     "execution_count": 6,
     "metadata": {},
     "output_type": "execute_result"
    },
    {
     "data": {
      "image/png": "[encoded data removed]",
      "text/plain": [
       "<Figure size 432x288 with 1 Axes>"
      ]
     },
     "metadata": {
      "needs_background": "light"
     },
     "output_type": "display_data"
    }
   ],
   "source": [
    "#Show unbalanced data\n",
    "count = data.binary_topic.value_counts()\n",
    "print('Class 0:', count[0])\n",
    "print('Class 1:', count[1])\n",
    "print('Proportion:', round(count[0] / count[1], 2), ': 1')\n",
    "\n",
    "count.plot(kind='bar', title='Unbalanced Classes')"
   ]
  },
  {
   "cell_type": "code",
   "execution_count": 7,
   "metadata": {},
   "outputs": [
    {
     "name": "stdout",
     "output_type": "stream",
     "text": [
      "tech_and_science    49324\n",
      "Name: binary_topic, dtype: int64\n",
      "other    631960\n",
      "Name: binary_topic, dtype: int64\n"
     ]
    }
   ],
   "source": [
    "#take subset of the data for demo, with intention of rerunning on cloud servers with all data later\n",
    "df1 = data[data['binary_topic'] == 'tech_and_science']\n",
    "df2 = data[data['binary_topic'] != 'tech_and_science']\n",
    "\n",
    "print(df1['binary_topic'].value_counts())\n",
    "print(df2['binary_topic'].value_counts())\n",
    "\n",
    "#sample 50000 rows from the dataframe with only other category\n",
    "df2_sample = df2.sample(n = 50000)\n",
    "\n",
    "#now paste them back together\n",
    "sample_data = pd.concat([df1, df2_sample], ignore_index=True)\n",
    "\n",
    "#delete extra dataframes to free up memory\n",
    "list = [df1,df2,df2_sample]\n",
    "del list"
   ]
  },
  {
   "cell_type": "code",
   "execution_count": 8,
   "metadata": {},
   "outputs": [
    {
     "data": {
      "text/plain": [
       "other               50000\n",
       "tech_and_science    49324\n",
       "Name: binary_topic, dtype: int64"
      ]
     },
     "execution_count": 8,
     "metadata": {},
     "output_type": "execute_result"
    }
   ],
   "source": [
    "#check current balance\n",
    "sample_data['binary_topic'].value_counts()"
   ]
  },
  {
   "cell_type": "code",
   "execution_count": 9,
   "metadata": {},
   "outputs": [
    {
     "name": "stdout",
     "output_type": "stream",
     "text": [
      "Class 0: 50000\n",
      "Class 1: 49324\n",
      "Proportion: 1.01 : 1\n"
     ]
    },
    {
     "data": {
      "text/plain": [
       "<matplotlib.axes._subplots.AxesSubplot at 0x120160790>"
      ]
     },
     "execution_count": 9,
     "metadata": {},
     "output_type": "execute_result"
    },
    {
     "data": {
      "image/png": "[encoded data removed]",
      "text/plain": [
       "<Figure size 432x288 with 1 Axes>"
      ]
     },
     "metadata": {
      "needs_background": "light"
     },
     "output_type": "display_data"
    }
   ],
   "source": [
    "#Show balanced data\n",
    "count = sample_data.binary_topic.value_counts()\n",
    "print('Class 0:', count[0])\n",
    "print('Class 1:', count[1])\n",
    "print('Proportion:', round(count[0] / count[1], 2), ': 1')\n",
    "\n",
    "count.plot(kind='bar', title='Balanced Classes')"
   ]
  },
  {
   "cell_type": "code",
   "execution_count": 10,
   "metadata": {},
   "outputs": [
    {
     "data": {
      "text/html": [
       "<div>\n",
       "<style scoped>\n",
       "    .dataframe tbody tr th:only-of-type {\n",
       "        vertical-align: middle;\n",
       "    }\n",
       "\n",
       "    .dataframe tbody tr th {\n",
       "        vertical-align: top;\n",
       "    }\n",
       "\n",
       "    .dataframe thead th {\n",
       "        text-align: right;\n",
       "    }\n",
       "</style>\n",
       "<table border=\"1\" class=\"dataframe\">\n",
       "  <thead>\n",
       "    <tr style=\"text-align: right;\">\n",
       "      <th></th>\n",
       "      <th>id</th>\n",
       "      <th>gender</th>\n",
       "      <th>age</th>\n",
       "      <th>topic</th>\n",
       "      <th>sign</th>\n",
       "      <th>date</th>\n",
       "      <th>text</th>\n",
       "      <th>binary_topic</th>\n",
       "      <th>label_codes</th>\n",
       "    </tr>\n",
       "  </thead>\n",
       "  <tbody>\n",
       "    <tr>\n",
       "      <th>0</th>\n",
       "      <td>3667495</td>\n",
       "      <td>male</td>\n",
       "      <td>15</td>\n",
       "      <td>Science</td>\n",
       "      <td>Libra</td>\n",
       "      <td>14,June,2004</td>\n",
       "      <td>Master Seaworld(Pictured ab...</td>\n",
       "      <td>tech_and_science</td>\n",
       "      <td>1</td>\n",
       "    </tr>\n",
       "    <tr>\n",
       "      <th>1</th>\n",
       "      <td>3667495</td>\n",
       "      <td>male</td>\n",
       "      <td>15</td>\n",
       "      <td>Science</td>\n",
       "      <td>Libra</td>\n",
       "      <td>14,June,2004</td>\n",
       "      <td>Until i can figure out how to...</td>\n",
       "      <td>tech_and_science</td>\n",
       "      <td>1</td>\n",
       "    </tr>\n",
       "    <tr>\n",
       "      <th>2</th>\n",
       "      <td>3667495</td>\n",
       "      <td>male</td>\n",
       "      <td>15</td>\n",
       "      <td>Science</td>\n",
       "      <td>Libra</td>\n",
       "      <td>16,June,2004</td>\n",
       "      <td>After complicated research an...</td>\n",
       "      <td>tech_and_science</td>\n",
       "      <td>1</td>\n",
       "    </tr>\n",
       "    <tr>\n",
       "      <th>3</th>\n",
       "      <td>3667495</td>\n",
       "      <td>male</td>\n",
       "      <td>15</td>\n",
       "      <td>Science</td>\n",
       "      <td>Libra</td>\n",
       "      <td>17,June,2004</td>\n",
       "      <td>ONCE APON A TIME----THERE...</td>\n",
       "      <td>tech_and_science</td>\n",
       "      <td>1</td>\n",
       "    </tr>\n",
       "    <tr>\n",
       "      <th>4</th>\n",
       "      <td>3667495</td>\n",
       "      <td>male</td>\n",
       "      <td>15</td>\n",
       "      <td>Science</td>\n",
       "      <td>Libra</td>\n",
       "      <td>17,June,2004</td>\n",
       "      <td>Me and my people in the ghett...</td>\n",
       "      <td>tech_and_science</td>\n",
       "      <td>1</td>\n",
       "    </tr>\n",
       "  </tbody>\n",
       "</table>\n",
       "</div>"
      ],
      "text/plain": [
       "        id gender  age    topic   sign          date  \\\n",
       "0  3667495   male   15  Science  Libra  14,June,2004   \n",
       "1  3667495   male   15  Science  Libra  14,June,2004   \n",
       "2  3667495   male   15  Science  Libra  16,June,2004   \n",
       "3  3667495   male   15  Science  Libra  17,June,2004   \n",
       "4  3667495   male   15  Science  Libra  17,June,2004   \n",
       "\n",
       "                                                text      binary_topic  \\\n",
       "0                     Master Seaworld(Pictured ab...  tech_and_science   \n",
       "1                   Until i can figure out how to...  tech_and_science   \n",
       "2                   After complicated research an...  tech_and_science   \n",
       "3                       ONCE APON A TIME----THERE...  tech_and_science   \n",
       "4                   Me and my people in the ghett...  tech_and_science   \n",
       "\n",
       "   label_codes  \n",
       "0            1  \n",
       "1            1  \n",
       "2            1  \n",
       "3            1  \n",
       "4            1  "
      ]
     },
     "execution_count": 10,
     "metadata": {},
     "output_type": "execute_result"
    }
   ],
   "source": [
    "sample_data['id'].nunique()\n",
    "sample_data.head()"
   ]
  },
  {
   "cell_type": "code",
   "execution_count": 79,
   "metadata": {},
   "outputs": [],
   "source": [
    "sample_data.to_csv('sample_data.csv', index = False)"
   ]
  },
  {
   "cell_type": "markdown",
   "metadata": {},
   "source": [
    "# Text Cleaning:"
   ]
  },
  {
   "cell_type": "code",
   "execution_count": 11,
   "metadata": {},
   "outputs": [
    {
     "data": {
      "text/plain": [
       "\"                  This is the fan club of John Reed.In most of the cases,i dont use last names, but this time its special. its John Reed. there are so many jonhs so we have to put on his last name. The reason why John Reed has a fan club?:well he just does.(i cant think of it at the moment)MOst Famous Phase: 'How many Times DO i have to Tell you, There are no ghettos in Lexington!'.yeah like that true. You better leave this kid alone-he can chop down trees with his head!  MEMBERS: DANIELLE Caitlin Jonhathan        \""
      ]
     },
     "execution_count": 11,
     "metadata": {},
     "output_type": "execute_result"
    }
   ],
   "source": [
    "#Some samples before text cleaning:\n",
    "sample_data.text[5]"
   ]
  },
  {
   "cell_type": "code",
   "execution_count": 12,
   "metadata": {},
   "outputs": [
    {
     "name": "stderr",
     "output_type": "stream",
     "text": [
      "[nltk_data] Downloading package punkt to /Users/aleks/nltk_data...\n",
      "[nltk_data]   Package punkt is already up-to-date!\n"
     ]
    },
    {
     "data": {
      "text/plain": [
       "True"
      ]
     },
     "execution_count": 12,
     "metadata": {},
     "output_type": "execute_result"
    }
   ],
   "source": [
    "import nltk\n",
    "import string\n",
    "from nltk import word_tokenize\n",
    "nltk.download('punkt')"
   ]
  },
  {
   "cell_type": "markdown",
   "metadata": {},
   "source": [
    "### Remove Punctuation\n"
   ]
  },
  {
   "cell_type": "code",
   "execution_count": 13,
   "metadata": {},
   "outputs": [],
   "source": [
    "def remove_punctuation(text):\n",
    "    no_punctuation = \"\".join([c for c in text if c not in string.punctuation])\n",
    "    return no_punctuation"
   ]
  },
  {
   "cell_type": "code",
   "execution_count": 14,
   "metadata": {},
   "outputs": [],
   "source": [
    "sample_data['clean_text'] = [remove_punctuation(text) for text in sample_data.text]"
   ]
  },
  {
   "cell_type": "markdown",
   "metadata": {},
   "source": [
    "### Lower Case"
   ]
  },
  {
   "cell_type": "code",
   "execution_count": 15,
   "metadata": {},
   "outputs": [],
   "source": [
    "def to_lower(text):\n",
    "    return ' '.join([w.lower() for w in word_tokenize(text)])\n",
    "\n",
    "sample_data['clean_text'] = [to_lower(text) for text in sample_data.clean_text]"
   ]
  },
  {
   "cell_type": "markdown",
   "metadata": {},
   "source": [
    "### Removing Stop Words"
   ]
  },
  {
   "cell_type": "code",
   "execution_count": 16,
   "metadata": {},
   "outputs": [],
   "source": [
    "from nltk.corpus import stopwords\n",
    "stopword = stopwords.words('english')\n",
    "\n",
    "def remove_stopwords(text):\n",
    "    word_tokens = nltk.word_tokenize(text)\n",
    "    no_stopwords = [word for word in word_tokens if word not in stopword]\n",
    "    return no_stopwords\n",
    "    \n",
    "sample_data['clean_text'] = [remove_stopwords(text) for text in sample_data.clean_text]"
   ]
  },
  {
   "cell_type": "code",
   "execution_count": null,
   "metadata": {},
   "outputs": [],
   "source": []
  },
  {
   "cell_type": "code",
   "execution_count": 17,
   "metadata": {
    "collapsed": true
   },
   "outputs": [
    {
     "data": {
      "text/plain": [
       "['fan',\n",
       " 'club',\n",
       " 'john',\n",
       " 'reedin',\n",
       " 'casesi',\n",
       " 'dont',\n",
       " 'use',\n",
       " 'last',\n",
       " 'names',\n",
       " 'time',\n",
       " 'special',\n",
       " 'john',\n",
       " 'reed',\n",
       " 'many',\n",
       " 'jonhs',\n",
       " 'put',\n",
       " 'last',\n",
       " 'name',\n",
       " 'reason',\n",
       " 'john',\n",
       " 'reed',\n",
       " 'fan',\n",
       " 'clubwell',\n",
       " 'doesi',\n",
       " 'cant',\n",
       " 'think',\n",
       " 'momentmost',\n",
       " 'famous',\n",
       " 'phase',\n",
       " 'many',\n",
       " 'times',\n",
       " 'tell',\n",
       " 'ghettos',\n",
       " 'lexingtonyeah',\n",
       " 'like',\n",
       " 'true',\n",
       " 'better',\n",
       " 'leave',\n",
       " 'kid',\n",
       " 'alonehe',\n",
       " 'chop',\n",
       " 'trees',\n",
       " 'head',\n",
       " 'members',\n",
       " 'danielle',\n",
       " 'caitlin',\n",
       " 'jonhathan']"
      ]
     },
     "execution_count": 17,
     "metadata": {},
     "output_type": "execute_result"
    }
   ],
   "source": [
    "#Some samples after text cleaning:\n",
    "sample_data.clean_text[5]"
   ]
  },
  {
   "cell_type": "code",
   "execution_count": 18,
   "metadata": {
    "collapsed": true
   },
   "outputs": [
    {
     "data": {
      "text/plain": [
       "['fan',\n",
       " 'club',\n",
       " 'john',\n",
       " 'reedin',\n",
       " 'casesi',\n",
       " 'dont',\n",
       " 'use',\n",
       " 'last',\n",
       " 'names',\n",
       " 'time',\n",
       " 'special',\n",
       " 'john',\n",
       " 'reed',\n",
       " 'many',\n",
       " 'jonhs',\n",
       " 'put',\n",
       " 'last',\n",
       " 'name',\n",
       " 'reason',\n",
       " 'john',\n",
       " 'reed',\n",
       " 'fan',\n",
       " 'clubwell',\n",
       " 'doesi',\n",
       " 'cant',\n",
       " 'think',\n",
       " 'momentmost',\n",
       " 'famous',\n",
       " 'phase',\n",
       " 'many',\n",
       " 'times',\n",
       " 'tell',\n",
       " 'ghettos',\n",
       " 'lexingtonyeah',\n",
       " 'like',\n",
       " 'true',\n",
       " 'better',\n",
       " 'leave',\n",
       " 'kid',\n",
       " 'alonehe',\n",
       " 'chop',\n",
       " 'trees',\n",
       " 'head',\n",
       " 'members',\n",
       " 'danielle',\n",
       " 'caitlin',\n",
       " 'jonhathan']"
      ]
     },
     "execution_count": 18,
     "metadata": {},
     "output_type": "execute_result"
    }
   ],
   "source": [
    "#Some samples after text cleaning:\n",
    "sample_data.clean_text[5]"
   ]
  },
  {
   "cell_type": "code",
   "execution_count": 19,
   "metadata": {},
   "outputs": [],
   "source": [
    "#Other stuff I could do: delete contractions, mispellings, lemmatize, possessive pronouns, special chars, etc."
   ]
  },
  {
   "cell_type": "code",
   "execution_count": null,
   "metadata": {},
   "outputs": [],
   "source": [
    "sample_data.to_csv('sample_data.csv', index = False)"
   ]
  },
  {
   "cell_type": "markdown",
   "metadata": {},
   "source": [
    "# Train Test Split"
   ]
  },
  {
   "cell_type": "code",
   "execution_count": 20,
   "metadata": {
    "collapsed": true
   },
   "outputs": [
    {
     "data": {
      "text/html": [
       "<div>\n",
       "<style scoped>\n",
       "    .dataframe tbody tr th:only-of-type {\n",
       "        vertical-align: middle;\n",
       "    }\n",
       "\n",
       "    .dataframe tbody tr th {\n",
       "        vertical-align: top;\n",
       "    }\n",
       "\n",
       "    .dataframe thead th {\n",
       "        text-align: right;\n",
       "    }\n",
       "</style>\n",
       "<table border=\"1\" class=\"dataframe\">\n",
       "  <thead>\n",
       "    <tr style=\"text-align: right;\">\n",
       "      <th></th>\n",
       "      <th>id</th>\n",
       "      <th>gender</th>\n",
       "      <th>age</th>\n",
       "      <th>topic</th>\n",
       "      <th>sign</th>\n",
       "      <th>date</th>\n",
       "      <th>text</th>\n",
       "      <th>binary_topic</th>\n",
       "      <th>label_codes</th>\n",
       "      <th>clean_text</th>\n",
       "    </tr>\n",
       "  </thead>\n",
       "  <tbody>\n",
       "    <tr>\n",
       "      <th>0</th>\n",
       "      <td>3667495</td>\n",
       "      <td>male</td>\n",
       "      <td>15</td>\n",
       "      <td>Science</td>\n",
       "      <td>Libra</td>\n",
       "      <td>14,June,2004</td>\n",
       "      <td>Master Seaworld(Pictured ab...</td>\n",
       "      <td>tech_and_science</td>\n",
       "      <td>1</td>\n",
       "      <td>[master, seaworldpictured, willyis, town, hero...</td>\n",
       "    </tr>\n",
       "    <tr>\n",
       "      <th>1</th>\n",
       "      <td>3667495</td>\n",
       "      <td>male</td>\n",
       "      <td>15</td>\n",
       "      <td>Science</td>\n",
       "      <td>Libra</td>\n",
       "      <td>14,June,2004</td>\n",
       "      <td>Until i can figure out how to...</td>\n",
       "      <td>tech_and_science</td>\n",
       "      <td>1</td>\n",
       "      <td>[figure, put, pics, website, well, dead, wan, ...</td>\n",
       "    </tr>\n",
       "    <tr>\n",
       "      <th>2</th>\n",
       "      <td>3667495</td>\n",
       "      <td>male</td>\n",
       "      <td>15</td>\n",
       "      <td>Science</td>\n",
       "      <td>Libra</td>\n",
       "      <td>16,June,2004</td>\n",
       "      <td>After complicated research an...</td>\n",
       "      <td>tech_and_science</td>\n",
       "      <td>1</td>\n",
       "      <td>[complicated, research, many, nights, awake, m...</td>\n",
       "    </tr>\n",
       "    <tr>\n",
       "      <th>3</th>\n",
       "      <td>3667495</td>\n",
       "      <td>male</td>\n",
       "      <td>15</td>\n",
       "      <td>Science</td>\n",
       "      <td>Libra</td>\n",
       "      <td>17,June,2004</td>\n",
       "      <td>ONCE APON A TIME----THERE...</td>\n",
       "      <td>tech_and_science</td>\n",
       "      <td>1</td>\n",
       "      <td>[apon, timethere, angery, kid, named, john, re...</td>\n",
       "    </tr>\n",
       "    <tr>\n",
       "      <th>4</th>\n",
       "      <td>3667495</td>\n",
       "      <td>male</td>\n",
       "      <td>15</td>\n",
       "      <td>Science</td>\n",
       "      <td>Libra</td>\n",
       "      <td>17,June,2004</td>\n",
       "      <td>Me and my people in the ghett...</td>\n",
       "      <td>tech_and_science</td>\n",
       "      <td>1</td>\n",
       "      <td>[people, ghetto, support, ghetto, police, worl...</td>\n",
       "    </tr>\n",
       "  </tbody>\n",
       "</table>\n",
       "</div>"
      ],
      "text/plain": [
       "        id gender  age    topic   sign          date  \\\n",
       "0  3667495   male   15  Science  Libra  14,June,2004   \n",
       "1  3667495   male   15  Science  Libra  14,June,2004   \n",
       "2  3667495   male   15  Science  Libra  16,June,2004   \n",
       "3  3667495   male   15  Science  Libra  17,June,2004   \n",
       "4  3667495   male   15  Science  Libra  17,June,2004   \n",
       "\n",
       "                                                text      binary_topic  \\\n",
       "0                     Master Seaworld(Pictured ab...  tech_and_science   \n",
       "1                   Until i can figure out how to...  tech_and_science   \n",
       "2                   After complicated research an...  tech_and_science   \n",
       "3                       ONCE APON A TIME----THERE...  tech_and_science   \n",
       "4                   Me and my people in the ghett...  tech_and_science   \n",
       "\n",
       "   label_codes                                         clean_text  \n",
       "0            1  [master, seaworldpictured, willyis, town, hero...  \n",
       "1            1  [figure, put, pics, website, well, dead, wan, ...  \n",
       "2            1  [complicated, research, many, nights, awake, m...  \n",
       "3            1  [apon, timethere, angery, kid, named, john, re...  \n",
       "4            1  [people, ghetto, support, ghetto, police, worl...  "
      ]
     },
     "execution_count": 20,
     "metadata": {},
     "output_type": "execute_result"
    }
   ],
   "source": [
    "sample_data.head()"
   ]
  },
  {
   "cell_type": "code",
   "execution_count": 21,
   "metadata": {},
   "outputs": [],
   "source": [
    "from sklearn.feature_extraction.text import TfidfVectorizer\n",
    "from sklearn.model_selection import train_test_split\n",
    "from sklearn.feature_selection import chi2"
   ]
  },
  {
   "cell_type": "code",
   "execution_count": 33,
   "metadata": {},
   "outputs": [],
   "source": [
    "#First check data type for clean text column"
   ]
  },
  {
   "cell_type": "code",
   "execution_count": 29,
   "metadata": {},
   "outputs": [],
   "source": [
    "#Change clean text to string type\n",
    "sample_data['clean_text'] = sample_data['clean_text'].astype(str)"
   ]
  },
  {
   "cell_type": "code",
   "execution_count": 30,
   "metadata": {},
   "outputs": [
    {
     "data": {
      "text/plain": [
       "dtype('O')"
      ]
     },
     "execution_count": 30,
     "metadata": {},
     "output_type": "execute_result"
    }
   ],
   "source": [
    "sample_data['clean_text'].dtypes"
   ]
  },
  {
   "cell_type": "code",
   "execution_count": 38,
   "metadata": {},
   "outputs": [
    {
     "data": {
      "text/html": [
       "<div>\n",
       "<style scoped>\n",
       "    .dataframe tbody tr th:only-of-type {\n",
       "        vertical-align: middle;\n",
       "    }\n",
       "\n",
       "    .dataframe tbody tr th {\n",
       "        vertical-align: top;\n",
       "    }\n",
       "\n",
       "    .dataframe thead th {\n",
       "        text-align: right;\n",
       "    }\n",
       "</style>\n",
       "<table border=\"1\" class=\"dataframe\">\n",
       "  <thead>\n",
       "    <tr style=\"text-align: right;\">\n",
       "      <th></th>\n",
       "      <th>id</th>\n",
       "      <th>gender</th>\n",
       "      <th>age</th>\n",
       "      <th>topic</th>\n",
       "      <th>sign</th>\n",
       "      <th>date</th>\n",
       "      <th>text</th>\n",
       "      <th>binary_topic</th>\n",
       "      <th>label_codes</th>\n",
       "      <th>clean_text</th>\n",
       "    </tr>\n",
       "  </thead>\n",
       "  <tbody>\n",
       "    <tr>\n",
       "      <th>0</th>\n",
       "      <td>3667495</td>\n",
       "      <td>male</td>\n",
       "      <td>15</td>\n",
       "      <td>Science</td>\n",
       "      <td>Libra</td>\n",
       "      <td>14,June,2004</td>\n",
       "      <td>Master Seaworld(Pictured ab...</td>\n",
       "      <td>tech_and_science</td>\n",
       "      <td>1</td>\n",
       "      <td>['master', 'seaworldpictured', 'willyis', 'tow...</td>\n",
       "    </tr>\n",
       "    <tr>\n",
       "      <th>1</th>\n",
       "      <td>3667495</td>\n",
       "      <td>male</td>\n",
       "      <td>15</td>\n",
       "      <td>Science</td>\n",
       "      <td>Libra</td>\n",
       "      <td>14,June,2004</td>\n",
       "      <td>Until i can figure out how to...</td>\n",
       "      <td>tech_and_science</td>\n",
       "      <td>1</td>\n",
       "      <td>['figure', 'put', 'pics', 'website', 'well', '...</td>\n",
       "    </tr>\n",
       "    <tr>\n",
       "      <th>2</th>\n",
       "      <td>3667495</td>\n",
       "      <td>male</td>\n",
       "      <td>15</td>\n",
       "      <td>Science</td>\n",
       "      <td>Libra</td>\n",
       "      <td>16,June,2004</td>\n",
       "      <td>After complicated research an...</td>\n",
       "      <td>tech_and_science</td>\n",
       "      <td>1</td>\n",
       "      <td>['complicated', 'research', 'many', 'nights', ...</td>\n",
       "    </tr>\n",
       "    <tr>\n",
       "      <th>3</th>\n",
       "      <td>3667495</td>\n",
       "      <td>male</td>\n",
       "      <td>15</td>\n",
       "      <td>Science</td>\n",
       "      <td>Libra</td>\n",
       "      <td>17,June,2004</td>\n",
       "      <td>ONCE APON A TIME----THERE...</td>\n",
       "      <td>tech_and_science</td>\n",
       "      <td>1</td>\n",
       "      <td>['apon', 'timethere', 'angery', 'kid', 'named'...</td>\n",
       "    </tr>\n",
       "    <tr>\n",
       "      <th>4</th>\n",
       "      <td>3667495</td>\n",
       "      <td>male</td>\n",
       "      <td>15</td>\n",
       "      <td>Science</td>\n",
       "      <td>Libra</td>\n",
       "      <td>17,June,2004</td>\n",
       "      <td>Me and my people in the ghett...</td>\n",
       "      <td>tech_and_science</td>\n",
       "      <td>1</td>\n",
       "      <td>['people', 'ghetto', 'support', 'ghetto', 'pol...</td>\n",
       "    </tr>\n",
       "  </tbody>\n",
       "</table>\n",
       "</div>"
      ],
      "text/plain": [
       "        id gender  age    topic   sign          date  \\\n",
       "0  3667495   male   15  Science  Libra  14,June,2004   \n",
       "1  3667495   male   15  Science  Libra  14,June,2004   \n",
       "2  3667495   male   15  Science  Libra  16,June,2004   \n",
       "3  3667495   male   15  Science  Libra  17,June,2004   \n",
       "4  3667495   male   15  Science  Libra  17,June,2004   \n",
       "\n",
       "                                                text      binary_topic  \\\n",
       "0                     Master Seaworld(Pictured ab...  tech_and_science   \n",
       "1                   Until i can figure out how to...  tech_and_science   \n",
       "2                   After complicated research an...  tech_and_science   \n",
       "3                       ONCE APON A TIME----THERE...  tech_and_science   \n",
       "4                   Me and my people in the ghett...  tech_and_science   \n",
       "\n",
       "   label_codes                                         clean_text  \n",
       "0            1  ['master', 'seaworldpictured', 'willyis', 'tow...  \n",
       "1            1  ['figure', 'put', 'pics', 'website', 'well', '...  \n",
       "2            1  ['complicated', 'research', 'many', 'nights', ...  \n",
       "3            1  ['apon', 'timethere', 'angery', 'kid', 'named'...  \n",
       "4            1  ['people', 'ghetto', 'support', 'ghetto', 'pol...  "
      ]
     },
     "execution_count": 38,
     "metadata": {},
     "output_type": "execute_result"
    }
   ],
   "source": [
    "sample_data.head()"
   ]
  },
  {
   "cell_type": "code",
   "execution_count": null,
   "metadata": {},
   "outputs": [],
   "source": [
    "#Now do train test split\n",
    "X_train, X_test, y_train, y_test = train_test_split(sample_data['clean_text'],\n",
    "sample_data['label_codes'], test_size = 0.20, random_state = 8)\n"
   ]
  },
  {
   "cell_type": "code",
   "execution_count": 49,
   "metadata": {},
   "outputs": [
    {
     "name": "stdout",
     "output_type": "stream",
     "text": [
      "79459\n",
      "19865\n"
     ]
    }
   ],
   "source": [
    "#How many blog posts in teach group after test train split\n",
    "print(len(X_train))\n",
    "print(len(X_test))"
   ]
  },
  {
   "cell_type": "markdown",
   "metadata": {},
   "source": [
    "# Text Representation  \n",
    "\n",
    "\n",
    "I'll use TF-IDF Vectors as features"
   ]
  },
  {
   "cell_type": "code",
   "execution_count": 64,
   "metadata": {},
   "outputs": [
    {
     "data": {
      "text/plain": [
       "93868    ['apparently', 'urllink', 'abc', 'quandary', '...\n",
       "9766     ['little', 'difficult', 'motivated', 'work', '...\n",
       "98864    ['hilights', 'playing', 'name', 'game', 'mike'...\n",
       "74477     ['urllink', 'wide', 'eyed', 'hopefully', 'wild']\n",
       "1372                  ['urllink', 'fotography', 'forgery']\n",
       "                               ...                        \n",
       "10376    ['810', 'page', 'research', 'paper', 'due', '3...\n",
       "62426              ['really', 'matter', 'question', 'day']\n",
       "18417     ['introducing', 'urllink', 'sticky', 'drawings']\n",
       "25940                        ['urllink', 'let', 'forever']\n",
       "70083    ['urllink', 'httpuknewsyahoocom02092580daczcht...\n",
       "Name: clean_text, Length: 79459, dtype: object"
      ]
     },
     "execution_count": 64,
     "metadata": {},
     "output_type": "execute_result"
    }
   ],
   "source": [
    "X_train"
   ]
  },
  {
   "cell_type": "code",
   "execution_count": 58,
   "metadata": {},
   "outputs": [
    {
     "data": {
      "text/plain": [
       "(79459, 309894)"
      ]
     },
     "execution_count": 58,
     "metadata": {},
     "output_type": "execute_result"
    }
   ],
   "source": [
    "#Try alternate approach:\n",
    "from sklearn.feature_extraction.text import CountVectorizer\n",
    "count_vect = CountVectorizer()\n",
    "X_train_counts = count_vect.fit_transform(X_train)\n",
    "X_train_counts.shape"
   ]
  },
  {
   "cell_type": "code",
   "execution_count": 59,
   "metadata": {},
   "outputs": [
    {
     "data": {
      "text/plain": [
       "(79459, 309894)"
      ]
     },
     "execution_count": 59,
     "metadata": {},
     "output_type": "execute_result"
    }
   ],
   "source": [
    "from sklearn.feature_extraction.text import TfidfTransformer\n",
    "tfidf_transformer = TfidfTransformer()\n",
    "X_train_tfidf = tfidf_transformer.fit_transform(X_train_counts)\n",
    "X_train_tfidf.shape"
   ]
  },
  {
   "cell_type": "markdown",
   "metadata": {},
   "source": [
    "# Build Model (Naive Bayes)"
   ]
  },
  {
   "cell_type": "code",
   "execution_count": 60,
   "metadata": {},
   "outputs": [],
   "source": [
    "from sklearn.naive_bayes import MultinomialNB\n",
    "clf = MultinomialNB().fit(X_train_tfidf, y_train)"
   ]
  },
  {
   "cell_type": "code",
   "execution_count": 62,
   "metadata": {},
   "outputs": [],
   "source": [
    "from sklearn.pipeline import Pipeline\n",
    "text_clf = Pipeline([('vect', CountVectorizer()),\n",
    "                      ('tfidf', TfidfTransformer()),\n",
    "                    ('clf', MultinomialNB()),\n",
    "])\n",
    "text_clf = text_clf.fit(X_train, y_train)"
   ]
  },
  {
   "cell_type": "markdown",
   "metadata": {},
   "source": [
    "# Evaluate Naive Bayes Model"
   ]
  },
  {
   "cell_type": "code",
   "execution_count": 63,
   "metadata": {},
   "outputs": [
    {
     "data": {
      "text/plain": [
       "0.6680594009564561"
      ]
     },
     "execution_count": 63,
     "metadata": {},
     "output_type": "execute_result"
    }
   ],
   "source": [
    "import numpy as np\n",
    "#twenty_test = fetch_20newsgroups(subset='test', shuffle=True)\n",
    "predicted = text_clf.predict(X_test)\n",
    "np.mean(predicted == y_test)"
   ]
  },
  {
   "cell_type": "markdown",
   "metadata": {},
   "source": [
    "# Build SVM Model"
   ]
  },
  {
   "cell_type": "code",
   "execution_count": 69,
   "metadata": {},
   "outputs": [
    {
     "data": {
      "text/plain": [
       "0.593103448275862"
      ]
     },
     "execution_count": 69,
     "metadata": {},
     "output_type": "execute_result"
    }
   ],
   "source": [
    "from sklearn.linear_model import SGDClassifier\n",
    "text_clf_svm = Pipeline([('vect', CountVectorizer()), ('tfidf', TfidfTransformer()), ('clf-svm', SGDClassifier(loss='hinge', penalty='l2', alpha=1e-3, random_state=42)),\n",
    " ])\n",
    "_ = text_clf_svm.fit(X_train, y_train)\n",
    "predicted_svm = text_clf_svm.predict(X_test)\n",
    "np.mean(predicted_svm == y_test)"
   ]
  },
  {
   "cell_type": "markdown",
   "metadata": {},
   "source": [
    "# Tune Models Using GridSearch to Improve Performance"
   ]
  },
  {
   "cell_type": "code",
   "execution_count": 70,
   "metadata": {},
   "outputs": [],
   "source": [
    "from sklearn.model_selection import GridSearchCV\n",
    "parameters = {'vect__ngram_range': [(1, 1), (1, 2)],\n",
    "              'tfidf__use_idf': (True, False),\n",
    "              'clf__alpha': (1e-2, 1e-3),\n",
    "}"
   ]
  },
  {
   "cell_type": "code",
   "execution_count": 72,
   "metadata": {},
   "outputs": [],
   "source": [
    "gs_clf = GridSearchCV(text_clf, parameters, n_jobs=-1)\n",
    "gs_clf = gs_clf.fit(X_train, y_train)"
   ]
  },
  {
   "cell_type": "code",
   "execution_count": 74,
   "metadata": {},
   "outputs": [
    {
     "name": "stdout",
     "output_type": "stream",
     "text": [
      "0.6820498657930205\n",
      "{'clf__alpha': 0.01, 'tfidf__use_idf': False, 'vect__ngram_range': (1, 2)}\n"
     ]
    }
   ],
   "source": [
    "print(gs_clf.best_score_)\n",
    "print(gs_clf.best_params_)"
   ]
  },
  {
   "cell_type": "code",
   "execution_count": null,
   "metadata": {},
   "outputs": [],
   "source": [
    "#Now improve SVM"
   ]
  },
  {
   "cell_type": "code",
   "execution_count": 75,
   "metadata": {},
   "outputs": [
    {
     "data": {
      "text/plain": [
       "{'clf-svm__alpha': 0.001, 'tfidf__use_idf': True, 'vect__ngram_range': (1, 1)}"
      ]
     },
     "execution_count": 75,
     "metadata": {},
     "output_type": "execute_result"
    }
   ],
   "source": [
    "from sklearn.model_selection import GridSearchCV\n",
    "parameters_svm = {'vect__ngram_range': [(1, 1), (1, 2)],\n",
    "               'tfidf__use_idf': (True, False),\n",
    "               'clf-svm__alpha': (1e-2, 1e-3),\n",
    "}\n",
    "gs_clf_svm = GridSearchCV(text_clf_svm, parameters_svm, n_jobs=-1)\n",
    "gs_clf_svm = gs_clf_svm.fit(X_train, y_train)\n",
    "gs_clf_svm.best_score_\n",
    "gs_clf_svm.best_params_"
   ]
  },
  {
   "cell_type": "code",
   "execution_count": 76,
   "metadata": {},
   "outputs": [
    {
     "data": {
      "text/plain": [
       "0.5965844556159654"
      ]
     },
     "execution_count": 76,
     "metadata": {},
     "output_type": "execute_result"
    }
   ],
   "source": [
    "gs_clf_svm.best_score_"
   ]
  },
  {
   "cell_type": "code",
   "execution_count": null,
   "metadata": {},
   "outputs": [],
   "source": [
    "# Repeat Process with Different TF IDF\n",
    "#Encoder = LabelEncoder()\n",
    "#Train_Y = Encoder.fit_transform(Train_Y)\n",
    "#Test_Y = Encoder.fit_transform(Test_Y)\n",
    "\n"
   ]
  },
  {
   "cell_type": "code",
   "execution_count": 77,
   "metadata": {},
   "outputs": [
    {
     "name": "stdout",
     "output_type": "stream",
     "text": [
      "(79459, 300)\n",
      "(19865, 300)\n"
     ]
    }
   ],
   "source": [
    "#GET HELP FROM EVAN:\n",
    "\n",
    "# Parameter election\n",
    "ngram_range = (1,2)\n",
    "min_df = 10\n",
    "max_df = 1.\n",
    "max_features = 300\n",
    "\n",
    "label_codes = {\n",
    "    'tech_and_science': 1,\n",
    "    'other': 0\n",
    "}\n",
    "\n",
    "tfidf = TfidfVectorizer(encoding='utf-8',\n",
    "                        ngram_range=ngram_range,\n",
    "                        stop_words=None,\n",
    "                        lowercase=False,\n",
    "                        max_df=max_df,\n",
    "                        min_df=min_df,\n",
    "                        max_features=max_features,\n",
    "                        norm='l2',\n",
    "                        sublinear_tf=True)\n",
    "                        \n",
    "features_train = tfidf.fit_transform(X_train).toarray()\n",
    "labels_train = y_train\n",
    "print(features_train.shape)\n",
    "\n",
    "features_test = tfidf.transform(X_test).toarray()\n",
    "labels_test = y_test\n",
    "print(features_test.shape)"
   ]
  },
  {
   "cell_type": "code",
   "execution_count": 78,
   "metadata": {},
   "outputs": [
    {
     "name": "stdout",
     "output_type": "stream",
     "text": [
      "# 'other' category:\n",
      "  . Most correlated unigrams:\n",
      ". mom\n",
      ". school\n",
      ". im\n",
      ". love\n",
      ". urllink\n",
      "  . Most correlated bigrams:\n",
      ". dont know\n",
      ". gon na\n",
      "\n",
      "# 'tech_and_science' category:\n",
      "  . Most correlated unigrams:\n",
      ". mom\n",
      ". school\n",
      ". im\n",
      ". love\n",
      ". urllink\n",
      "  . Most correlated bigrams:\n",
      ". dont know\n",
      ". gon na\n",
      "\n"
     ]
    }
   ],
   "source": [
    "from sklearn.feature_selection import chi2\n",
    "import numpy as np\n",
    "\n",
    "for Product, category_id in sorted(label_codes.items()):\n",
    "    features_chi2 = chi2(features_train, labels_train == category_id)\n",
    "    indices = np.argsort(features_chi2[0])\n",
    "    feature_names = np.array(tfidf.get_feature_names())[indices]\n",
    "    unigrams = [v for v in feature_names if len(v.split(' ')) == 1]\n",
    "    bigrams = [v for v in feature_names if len(v.split(' ')) == 2]\n",
    "    print(\"# '{}' category:\".format(Product))\n",
    "    print(\"  . Most correlated unigrams:\\n. {}\".format('\\n. '.join(unigrams[-5:])))\n",
    "    print(\"  . Most correlated bigrams:\\n. {}\".format('\\n. '.join(bigrams[-2:])))\n",
    "    print(\"\")"
   ]
  },
  {
   "cell_type": "code",
   "execution_count": null,
   "metadata": {},
   "outputs": [],
   "source": []
  },
  {
   "cell_type": "markdown",
   "metadata": {},
   "source": [
    "Wishlist for if I had more time:\n",
    "- Use SMOTE or random oversampling with tf-Idf representation of texts when balancing classes \n",
    "- Remove outliers in terms of blog post length\n",
    "- Do much more thorough text cleaning\n",
    "- Try out several other models such as random forest and pick which one performs best"
   ]
  },
  {
   "cell_type": "code",
   "execution_count": null,
   "metadata": {},
   "outputs": [],
   "source": []
  }
 ],
 "metadata": {
  "kernelspec": {
   "display_name": "Python 3",
   "language": "python",
   "name": "python3"
  },
  "language_info": {
   "codemirror_mode": {
    "name": "ipython",
    "version": 3
   },
   "file_extension": ".py",
   "mimetype": "text/x-python",
   "name": "python",
   "nbconvert_exporter": "python",
   "pygments_lexer": "ipython3",
   "version": "3.7.7"
  }
 },
 "nbformat": 4,
 "nbformat_minor": 2
}
